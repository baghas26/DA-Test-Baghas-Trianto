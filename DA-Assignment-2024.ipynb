{
  "nbformat": 4,
  "nbformat_minor": 0,
  "metadata": {
    "colab": {
      "provenance": []
    },
    "kernelspec": {
      "name": "python3",
      "display_name": "Python 3"
    },
    "language_info": {
      "name": "python"
    }
  },
  "cells": [
    {
      "cell_type": "code",
      "execution_count": 1,
      "metadata": {
        "id": "hhfQIgO68JQe"
      },
      "outputs": [],
      "source": [
        "# Import libraries\n",
        "import sqlite3\n",
        "import pandas as pd"
      ]
    },
    {
      "cell_type": "code",
      "source": [
        "# Clone repositories\n",
        "!git clone https://github.com/Qwork-Intel/DA-Assignment-2024.git"
      ],
      "metadata": {
        "colab": {
          "base_uri": "https://localhost:8080/"
        },
        "id": "npWO3Ex3B-Wx",
        "outputId": "58df598b-8c6a-472f-a248-1d97dd2bfb13"
      },
      "execution_count": 2,
      "outputs": [
        {
          "output_type": "stream",
          "name": "stdout",
          "text": [
            "Cloning into 'DA-Assignment-2024'...\n",
            "remote: Enumerating objects: 5, done.\u001b[K\n",
            "remote: Counting objects: 100% (5/5), done.\u001b[K\n",
            "remote: Compressing objects: 100% (5/5), done.\u001b[K\n",
            "remote: Total 5 (delta 0), reused 5 (delta 0), pack-reused 0\u001b[K\n",
            "Receiving objects: 100% (5/5), 10.45 MiB | 15.00 MiB/s, done.\n"
          ]
        }
      ]
    },
    {
      "cell_type": "code",
      "source": [
        "# Connect to database\n",
        "con = sqlite3.connect('/content/DA-Assignment-2024/jobdb.sqlite') # path to sqlite extension\n",
        "\n",
        "df = pd.read_sql_query('SELECT * FROM job_main', con)\n",
        "\n",
        "con.close()"
      ],
      "metadata": {
        "id": "Ial4UGh-BVMv"
      },
      "execution_count": 3,
      "outputs": []
    },
    {
      "cell_type": "code",
      "source": [
        "# EDA focusing on Marketing Executive\n",
        "df_ME = df[df['job_title']=='Marketing Executive']\n",
        "\n",
        "df_ME.head()"
      ],
      "metadata": {
        "colab": {
          "base_uri": "https://localhost:8080/",
          "height": 313
        },
        "id": "kZDsz_XdUu8f",
        "outputId": "abf22f02-95ed-40f0-dd2a-390e1e4a14a3"
      },
      "execution_count": 4,
      "outputs": [
        {
          "output_type": "execute_result",
          "data": {
            "text/plain": [
              "    scrapedid  webid  companyid                date_scraped  \\\n",
              "11        221      2      223.0  2022-03-29 09:00:03.610569   \n",
              "18        259      2      261.0  2022-03-29 09:00:03.610569   \n",
              "19        261      2      263.0  2022-03-29 09:00:03.610569   \n",
              "21        293      2      295.0  2022-03-29 09:00:03.610569   \n",
              "23        323      2      325.0  2022-03-29 09:00:03.610569   \n",
              "\n",
              "              job_title                 date_posted      career_level  \\\n",
              "11  Marketing Executive  2022-03-17 19:01:13.000000  Junior Executive   \n",
              "18  Marketing Executive  2022-03-14 07:40:52.000000  Junior Executive   \n",
              "19  Marketing Executive  2022-03-19 01:17:45.000000  Junior Executive   \n",
              "21  Marketing Executive  2022-03-09 03:07:27.000000       Entry Level   \n",
              "23  Marketing Executive  2022-03-10 19:30:55.000000  Senior Executive   \n",
              "\n",
              "    year_experience_min  year_experience_max currency  salary_min  salary_max  \\\n",
              "11                  3.0                  NaN      MYR      1500.0      2000.0   \n",
              "18                  1.0                  NaN      MYR      3000.0      4000.0   \n",
              "19                  1.0                  NaN      MYR         NaN         NaN   \n",
              "21                  1.0                  NaN      MYR      2800.0      3500.0   \n",
              "23                  1.0                  NaN      MYR         NaN         NaN   \n",
              "\n",
              "    remote source                   last_seen date_expired  \n",
              "11     NaN   None  2022-03-29 09:00:03.610569         None  \n",
              "18     NaN   None  2022-03-29 09:00:03.610569         None  \n",
              "19     NaN   None  2022-03-29 09:00:03.610569         None  \n",
              "21     NaN   None  2022-03-29 09:00:03.610569         None  \n",
              "23     NaN   None  2022-03-29 09:00:03.610569         None  "
            ],
            "text/html": [
              "\n",
              "  <div id=\"df-ea2c7192-caed-44a4-bd86-15d672903142\" class=\"colab-df-container\">\n",
              "    <div>\n",
              "<style scoped>\n",
              "    .dataframe tbody tr th:only-of-type {\n",
              "        vertical-align: middle;\n",
              "    }\n",
              "\n",
              "    .dataframe tbody tr th {\n",
              "        vertical-align: top;\n",
              "    }\n",
              "\n",
              "    .dataframe thead th {\n",
              "        text-align: right;\n",
              "    }\n",
              "</style>\n",
              "<table border=\"1\" class=\"dataframe\">\n",
              "  <thead>\n",
              "    <tr style=\"text-align: right;\">\n",
              "      <th></th>\n",
              "      <th>scrapedid</th>\n",
              "      <th>webid</th>\n",
              "      <th>companyid</th>\n",
              "      <th>date_scraped</th>\n",
              "      <th>job_title</th>\n",
              "      <th>date_posted</th>\n",
              "      <th>career_level</th>\n",
              "      <th>year_experience_min</th>\n",
              "      <th>year_experience_max</th>\n",
              "      <th>currency</th>\n",
              "      <th>salary_min</th>\n",
              "      <th>salary_max</th>\n",
              "      <th>remote</th>\n",
              "      <th>source</th>\n",
              "      <th>last_seen</th>\n",
              "      <th>date_expired</th>\n",
              "    </tr>\n",
              "  </thead>\n",
              "  <tbody>\n",
              "    <tr>\n",
              "      <th>11</th>\n",
              "      <td>221</td>\n",
              "      <td>2</td>\n",
              "      <td>223.0</td>\n",
              "      <td>2022-03-29 09:00:03.610569</td>\n",
              "      <td>Marketing Executive</td>\n",
              "      <td>2022-03-17 19:01:13.000000</td>\n",
              "      <td>Junior Executive</td>\n",
              "      <td>3.0</td>\n",
              "      <td>NaN</td>\n",
              "      <td>MYR</td>\n",
              "      <td>1500.0</td>\n",
              "      <td>2000.0</td>\n",
              "      <td>NaN</td>\n",
              "      <td>None</td>\n",
              "      <td>2022-03-29 09:00:03.610569</td>\n",
              "      <td>None</td>\n",
              "    </tr>\n",
              "    <tr>\n",
              "      <th>18</th>\n",
              "      <td>259</td>\n",
              "      <td>2</td>\n",
              "      <td>261.0</td>\n",
              "      <td>2022-03-29 09:00:03.610569</td>\n",
              "      <td>Marketing Executive</td>\n",
              "      <td>2022-03-14 07:40:52.000000</td>\n",
              "      <td>Junior Executive</td>\n",
              "      <td>1.0</td>\n",
              "      <td>NaN</td>\n",
              "      <td>MYR</td>\n",
              "      <td>3000.0</td>\n",
              "      <td>4000.0</td>\n",
              "      <td>NaN</td>\n",
              "      <td>None</td>\n",
              "      <td>2022-03-29 09:00:03.610569</td>\n",
              "      <td>None</td>\n",
              "    </tr>\n",
              "    <tr>\n",
              "      <th>19</th>\n",
              "      <td>261</td>\n",
              "      <td>2</td>\n",
              "      <td>263.0</td>\n",
              "      <td>2022-03-29 09:00:03.610569</td>\n",
              "      <td>Marketing Executive</td>\n",
              "      <td>2022-03-19 01:17:45.000000</td>\n",
              "      <td>Junior Executive</td>\n",
              "      <td>1.0</td>\n",
              "      <td>NaN</td>\n",
              "      <td>MYR</td>\n",
              "      <td>NaN</td>\n",
              "      <td>NaN</td>\n",
              "      <td>NaN</td>\n",
              "      <td>None</td>\n",
              "      <td>2022-03-29 09:00:03.610569</td>\n",
              "      <td>None</td>\n",
              "    </tr>\n",
              "    <tr>\n",
              "      <th>21</th>\n",
              "      <td>293</td>\n",
              "      <td>2</td>\n",
              "      <td>295.0</td>\n",
              "      <td>2022-03-29 09:00:03.610569</td>\n",
              "      <td>Marketing Executive</td>\n",
              "      <td>2022-03-09 03:07:27.000000</td>\n",
              "      <td>Entry Level</td>\n",
              "      <td>1.0</td>\n",
              "      <td>NaN</td>\n",
              "      <td>MYR</td>\n",
              "      <td>2800.0</td>\n",
              "      <td>3500.0</td>\n",
              "      <td>NaN</td>\n",
              "      <td>None</td>\n",
              "      <td>2022-03-29 09:00:03.610569</td>\n",
              "      <td>None</td>\n",
              "    </tr>\n",
              "    <tr>\n",
              "      <th>23</th>\n",
              "      <td>323</td>\n",
              "      <td>2</td>\n",
              "      <td>325.0</td>\n",
              "      <td>2022-03-29 09:00:03.610569</td>\n",
              "      <td>Marketing Executive</td>\n",
              "      <td>2022-03-10 19:30:55.000000</td>\n",
              "      <td>Senior Executive</td>\n",
              "      <td>1.0</td>\n",
              "      <td>NaN</td>\n",
              "      <td>MYR</td>\n",
              "      <td>NaN</td>\n",
              "      <td>NaN</td>\n",
              "      <td>NaN</td>\n",
              "      <td>None</td>\n",
              "      <td>2022-03-29 09:00:03.610569</td>\n",
              "      <td>None</td>\n",
              "    </tr>\n",
              "  </tbody>\n",
              "</table>\n",
              "</div>\n",
              "    <div class=\"colab-df-buttons\">\n",
              "\n",
              "  <div class=\"colab-df-container\">\n",
              "    <button class=\"colab-df-convert\" onclick=\"convertToInteractive('df-ea2c7192-caed-44a4-bd86-15d672903142')\"\n",
              "            title=\"Convert this dataframe to an interactive table.\"\n",
              "            style=\"display:none;\">\n",
              "\n",
              "  <svg xmlns=\"http://www.w3.org/2000/svg\" height=\"24px\" viewBox=\"0 -960 960 960\">\n",
              "    <path d=\"M120-120v-720h720v720H120Zm60-500h600v-160H180v160Zm220 220h160v-160H400v160Zm0 220h160v-160H400v160ZM180-400h160v-160H180v160Zm440 0h160v-160H620v160ZM180-180h160v-160H180v160Zm440 0h160v-160H620v160Z\"/>\n",
              "  </svg>\n",
              "    </button>\n",
              "\n",
              "  <style>\n",
              "    .colab-df-container {\n",
              "      display:flex;\n",
              "      gap: 12px;\n",
              "    }\n",
              "\n",
              "    .colab-df-convert {\n",
              "      background-color: #E8F0FE;\n",
              "      border: none;\n",
              "      border-radius: 50%;\n",
              "      cursor: pointer;\n",
              "      display: none;\n",
              "      fill: #1967D2;\n",
              "      height: 32px;\n",
              "      padding: 0 0 0 0;\n",
              "      width: 32px;\n",
              "    }\n",
              "\n",
              "    .colab-df-convert:hover {\n",
              "      background-color: #E2EBFA;\n",
              "      box-shadow: 0px 1px 2px rgba(60, 64, 67, 0.3), 0px 1px 3px 1px rgba(60, 64, 67, 0.15);\n",
              "      fill: #174EA6;\n",
              "    }\n",
              "\n",
              "    .colab-df-buttons div {\n",
              "      margin-bottom: 4px;\n",
              "    }\n",
              "\n",
              "    [theme=dark] .colab-df-convert {\n",
              "      background-color: #3B4455;\n",
              "      fill: #D2E3FC;\n",
              "    }\n",
              "\n",
              "    [theme=dark] .colab-df-convert:hover {\n",
              "      background-color: #434B5C;\n",
              "      box-shadow: 0px 1px 3px 1px rgba(0, 0, 0, 0.15);\n",
              "      filter: drop-shadow(0px 1px 2px rgba(0, 0, 0, 0.3));\n",
              "      fill: #FFFFFF;\n",
              "    }\n",
              "  </style>\n",
              "\n",
              "    <script>\n",
              "      const buttonEl =\n",
              "        document.querySelector('#df-ea2c7192-caed-44a4-bd86-15d672903142 button.colab-df-convert');\n",
              "      buttonEl.style.display =\n",
              "        google.colab.kernel.accessAllowed ? 'block' : 'none';\n",
              "\n",
              "      async function convertToInteractive(key) {\n",
              "        const element = document.querySelector('#df-ea2c7192-caed-44a4-bd86-15d672903142');\n",
              "        const dataTable =\n",
              "          await google.colab.kernel.invokeFunction('convertToInteractive',\n",
              "                                                    [key], {});\n",
              "        if (!dataTable) return;\n",
              "\n",
              "        const docLinkHtml = 'Like what you see? Visit the ' +\n",
              "          '<a target=\"_blank\" href=https://colab.research.google.com/notebooks/data_table.ipynb>data table notebook</a>'\n",
              "          + ' to learn more about interactive tables.';\n",
              "        element.innerHTML = '';\n",
              "        dataTable['output_type'] = 'display_data';\n",
              "        await google.colab.output.renderOutput(dataTable, element);\n",
              "        const docLink = document.createElement('div');\n",
              "        docLink.innerHTML = docLinkHtml;\n",
              "        element.appendChild(docLink);\n",
              "      }\n",
              "    </script>\n",
              "  </div>\n",
              "\n",
              "\n",
              "<div id=\"df-6112b0a5-3e84-452a-ad09-10171d3f7e3a\">\n",
              "  <button class=\"colab-df-quickchart\" onclick=\"quickchart('df-6112b0a5-3e84-452a-ad09-10171d3f7e3a')\"\n",
              "            title=\"Suggest charts\"\n",
              "            style=\"display:none;\">\n",
              "\n",
              "<svg xmlns=\"http://www.w3.org/2000/svg\" height=\"24px\"viewBox=\"0 0 24 24\"\n",
              "     width=\"24px\">\n",
              "    <g>\n",
              "        <path d=\"M19 3H5c-1.1 0-2 .9-2 2v14c0 1.1.9 2 2 2h14c1.1 0 2-.9 2-2V5c0-1.1-.9-2-2-2zM9 17H7v-7h2v7zm4 0h-2V7h2v10zm4 0h-2v-4h2v4z\"/>\n",
              "    </g>\n",
              "</svg>\n",
              "  </button>\n",
              "\n",
              "<style>\n",
              "  .colab-df-quickchart {\n",
              "      --bg-color: #E8F0FE;\n",
              "      --fill-color: #1967D2;\n",
              "      --hover-bg-color: #E2EBFA;\n",
              "      --hover-fill-color: #174EA6;\n",
              "      --disabled-fill-color: #AAA;\n",
              "      --disabled-bg-color: #DDD;\n",
              "  }\n",
              "\n",
              "  [theme=dark] .colab-df-quickchart {\n",
              "      --bg-color: #3B4455;\n",
              "      --fill-color: #D2E3FC;\n",
              "      --hover-bg-color: #434B5C;\n",
              "      --hover-fill-color: #FFFFFF;\n",
              "      --disabled-bg-color: #3B4455;\n",
              "      --disabled-fill-color: #666;\n",
              "  }\n",
              "\n",
              "  .colab-df-quickchart {\n",
              "    background-color: var(--bg-color);\n",
              "    border: none;\n",
              "    border-radius: 50%;\n",
              "    cursor: pointer;\n",
              "    display: none;\n",
              "    fill: var(--fill-color);\n",
              "    height: 32px;\n",
              "    padding: 0;\n",
              "    width: 32px;\n",
              "  }\n",
              "\n",
              "  .colab-df-quickchart:hover {\n",
              "    background-color: var(--hover-bg-color);\n",
              "    box-shadow: 0 1px 2px rgba(60, 64, 67, 0.3), 0 1px 3px 1px rgba(60, 64, 67, 0.15);\n",
              "    fill: var(--button-hover-fill-color);\n",
              "  }\n",
              "\n",
              "  .colab-df-quickchart-complete:disabled,\n",
              "  .colab-df-quickchart-complete:disabled:hover {\n",
              "    background-color: var(--disabled-bg-color);\n",
              "    fill: var(--disabled-fill-color);\n",
              "    box-shadow: none;\n",
              "  }\n",
              "\n",
              "  .colab-df-spinner {\n",
              "    border: 2px solid var(--fill-color);\n",
              "    border-color: transparent;\n",
              "    border-bottom-color: var(--fill-color);\n",
              "    animation:\n",
              "      spin 1s steps(1) infinite;\n",
              "  }\n",
              "\n",
              "  @keyframes spin {\n",
              "    0% {\n",
              "      border-color: transparent;\n",
              "      border-bottom-color: var(--fill-color);\n",
              "      border-left-color: var(--fill-color);\n",
              "    }\n",
              "    20% {\n",
              "      border-color: transparent;\n",
              "      border-left-color: var(--fill-color);\n",
              "      border-top-color: var(--fill-color);\n",
              "    }\n",
              "    30% {\n",
              "      border-color: transparent;\n",
              "      border-left-color: var(--fill-color);\n",
              "      border-top-color: var(--fill-color);\n",
              "      border-right-color: var(--fill-color);\n",
              "    }\n",
              "    40% {\n",
              "      border-color: transparent;\n",
              "      border-right-color: var(--fill-color);\n",
              "      border-top-color: var(--fill-color);\n",
              "    }\n",
              "    60% {\n",
              "      border-color: transparent;\n",
              "      border-right-color: var(--fill-color);\n",
              "    }\n",
              "    80% {\n",
              "      border-color: transparent;\n",
              "      border-right-color: var(--fill-color);\n",
              "      border-bottom-color: var(--fill-color);\n",
              "    }\n",
              "    90% {\n",
              "      border-color: transparent;\n",
              "      border-bottom-color: var(--fill-color);\n",
              "    }\n",
              "  }\n",
              "</style>\n",
              "\n",
              "  <script>\n",
              "    async function quickchart(key) {\n",
              "      const quickchartButtonEl =\n",
              "        document.querySelector('#' + key + ' button');\n",
              "      quickchartButtonEl.disabled = true;  // To prevent multiple clicks.\n",
              "      quickchartButtonEl.classList.add('colab-df-spinner');\n",
              "      try {\n",
              "        const charts = await google.colab.kernel.invokeFunction(\n",
              "            'suggestCharts', [key], {});\n",
              "      } catch (error) {\n",
              "        console.error('Error during call to suggestCharts:', error);\n",
              "      }\n",
              "      quickchartButtonEl.classList.remove('colab-df-spinner');\n",
              "      quickchartButtonEl.classList.add('colab-df-quickchart-complete');\n",
              "    }\n",
              "    (() => {\n",
              "      let quickchartButtonEl =\n",
              "        document.querySelector('#df-6112b0a5-3e84-452a-ad09-10171d3f7e3a button');\n",
              "      quickchartButtonEl.style.display =\n",
              "        google.colab.kernel.accessAllowed ? 'block' : 'none';\n",
              "    })();\n",
              "  </script>\n",
              "</div>\n",
              "    </div>\n",
              "  </div>\n"
            ],
            "application/vnd.google.colaboratory.intrinsic+json": {
              "type": "dataframe",
              "variable_name": "df_ME",
              "repr_error": "'str' object has no attribute 'empty'"
            }
          },
          "metadata": {},
          "execution_count": 4
        }
      ]
    },
    {
      "cell_type": "code",
      "source": [
        "df_ME.info()"
      ],
      "metadata": {
        "colab": {
          "base_uri": "https://localhost:8080/"
        },
        "id": "w3XW22n7W-6Q",
        "outputId": "61260ff3-f75d-47ac-ee02-c6f9d12dd5fb"
      },
      "execution_count": 5,
      "outputs": [
        {
          "output_type": "stream",
          "name": "stdout",
          "text": [
            "<class 'pandas.core.frame.DataFrame'>\n",
            "Int64Index: 9211 entries, 11 to 59970\n",
            "Data columns (total 16 columns):\n",
            " #   Column               Non-Null Count  Dtype  \n",
            "---  ------               --------------  -----  \n",
            " 0   scrapedid            9211 non-null   int64  \n",
            " 1   webid                9211 non-null   int64  \n",
            " 2   companyid            9211 non-null   float64\n",
            " 3   date_scraped         9211 non-null   object \n",
            " 4   job_title            9211 non-null   object \n",
            " 5   date_posted          9211 non-null   object \n",
            " 6   career_level         6653 non-null   object \n",
            " 7   year_experience_min  3786 non-null   float64\n",
            " 8   year_experience_max  103 non-null    float64\n",
            " 9   currency             9014 non-null   object \n",
            " 10  salary_min           4552 non-null   float64\n",
            " 11  salary_max           4551 non-null   float64\n",
            " 12  remote               751 non-null    float64\n",
            " 13  source               0 non-null      object \n",
            " 14  last_seen            9211 non-null   object \n",
            " 15  date_expired         0 non-null      object \n",
            "dtypes: float64(6), int64(2), object(8)\n",
            "memory usage: 1.2+ MB\n"
          ]
        }
      ]
    },
    {
      "cell_type": "code",
      "source": [
        "# Select the necessary column\n",
        "df_ME = df_ME.iloc[:, [0,1,2,4,6,7,9,10,11]]"
      ],
      "metadata": {
        "id": "UV1GzmxpXPCD"
      },
      "execution_count": 6,
      "outputs": []
    },
    {
      "cell_type": "code",
      "source": [
        "# Drop the null values from currency and career_level column\n",
        "df_ME.dropna(subset=['currency', 'career_level'], inplace = True)"
      ],
      "metadata": {
        "id": "FH9eeO7TYp4m"
      },
      "execution_count": 7,
      "outputs": []
    },
    {
      "cell_type": "code",
      "source": [
        "# Drop the not specified carrer_level\n",
        "df_ME.drop(df_ME[df_ME['career_level'] == 'Not Specified'].index, inplace=True)"
      ],
      "metadata": {
        "id": "ofnqI5Nnbly-"
      },
      "execution_count": 8,
      "outputs": []
    },
    {
      "cell_type": "code",
      "source": [
        "df_ME.info()"
      ],
      "metadata": {
        "colab": {
          "base_uri": "https://localhost:8080/"
        },
        "id": "fdHR0isXdpGE",
        "outputId": "e0b8dd30-2935-4820-fea9-af893331b58d"
      },
      "execution_count": 9,
      "outputs": [
        {
          "output_type": "stream",
          "name": "stdout",
          "text": [
            "<class 'pandas.core.frame.DataFrame'>\n",
            "Int64Index: 4138 entries, 11 to 58378\n",
            "Data columns (total 9 columns):\n",
            " #   Column               Non-Null Count  Dtype  \n",
            "---  ------               --------------  -----  \n",
            " 0   scrapedid            4138 non-null   int64  \n",
            " 1   webid                4138 non-null   int64  \n",
            " 2   companyid            4138 non-null   float64\n",
            " 3   job_title            4138 non-null   object \n",
            " 4   career_level         4138 non-null   object \n",
            " 5   year_experience_min  3720 non-null   float64\n",
            " 6   currency             4138 non-null   object \n",
            " 7   salary_min           2517 non-null   float64\n",
            " 8   salary_max           2519 non-null   float64\n",
            "dtypes: float64(4), int64(2), object(3)\n",
            "memory usage: 323.3+ KB\n"
          ]
        }
      ]
    },
    {
      "cell_type": "code",
      "source": [
        "# Fill year_experience_min null values with median\n",
        "df_ME['year_experience_min'].fillna(df_ME['year_experience_min'].median(), inplace = True)"
      ],
      "metadata": {
        "id": "wyAMu-j0e3_L"
      },
      "execution_count": 10,
      "outputs": []
    },
    {
      "cell_type": "code",
      "source": [
        "df_ME.info()"
      ],
      "metadata": {
        "colab": {
          "base_uri": "https://localhost:8080/"
        },
        "id": "GNZvpJhaCoQv",
        "outputId": "986043ab-3f07-4179-c905-b0b1bd7b65b1"
      },
      "execution_count": 11,
      "outputs": [
        {
          "output_type": "stream",
          "name": "stdout",
          "text": [
            "<class 'pandas.core.frame.DataFrame'>\n",
            "Int64Index: 4138 entries, 11 to 58378\n",
            "Data columns (total 9 columns):\n",
            " #   Column               Non-Null Count  Dtype  \n",
            "---  ------               --------------  -----  \n",
            " 0   scrapedid            4138 non-null   int64  \n",
            " 1   webid                4138 non-null   int64  \n",
            " 2   companyid            4138 non-null   float64\n",
            " 3   job_title            4138 non-null   object \n",
            " 4   career_level         4138 non-null   object \n",
            " 5   year_experience_min  4138 non-null   float64\n",
            " 6   currency             4138 non-null   object \n",
            " 7   salary_min           2517 non-null   float64\n",
            " 8   salary_max           2519 non-null   float64\n",
            "dtypes: float64(4), int64(2), object(3)\n",
            "memory usage: 323.3+ KB\n"
          ]
        }
      ]
    },
    {
      "cell_type": "code",
      "source": [
        "# Replace RM currency to MYR\n",
        "df_ME['currency'].replace(to_replace='RM', value='MYR', inplace=True)"
      ],
      "metadata": {
        "id": "vw1evxANDPJ8"
      },
      "execution_count": 12,
      "outputs": []
    },
    {
      "cell_type": "code",
      "source": [
        "# Creating Dataframe for MYR, IDR, and SGD currency\n",
        "df_ME_MYR = df_ME[df_ME['currency']=='MYR']\n",
        "df_ME_IDR = df_ME[df_ME['currency']=='IDR']\n",
        "df_ME_SGD = df_ME[df_ME['currency']=='SGD']"
      ],
      "metadata": {
        "id": "ZQlLnI3REIYZ"
      },
      "execution_count": 13,
      "outputs": []
    },
    {
      "cell_type": "code",
      "source": [
        "df_ME_IDR.info()"
      ],
      "metadata": {
        "colab": {
          "base_uri": "https://localhost:8080/"
        },
        "id": "J1lh9n_oIM00",
        "outputId": "33913524-b481-413a-9a6e-13072d1b7e82"
      },
      "execution_count": 14,
      "outputs": [
        {
          "output_type": "stream",
          "name": "stdout",
          "text": [
            "<class 'pandas.core.frame.DataFrame'>\n",
            "Int64Index: 669 entries, 903 to 58280\n",
            "Data columns (total 9 columns):\n",
            " #   Column               Non-Null Count  Dtype  \n",
            "---  ------               --------------  -----  \n",
            " 0   scrapedid            669 non-null    int64  \n",
            " 1   webid                669 non-null    int64  \n",
            " 2   companyid            669 non-null    float64\n",
            " 3   job_title            669 non-null    object \n",
            " 4   career_level         669 non-null    object \n",
            " 5   year_experience_min  669 non-null    float64\n",
            " 6   currency             669 non-null    object \n",
            " 7   salary_min           213 non-null    float64\n",
            " 8   salary_max           214 non-null    float64\n",
            "dtypes: float64(4), int64(2), object(3)\n",
            "memory usage: 52.3+ KB\n"
          ]
        }
      ]
    },
    {
      "cell_type": "code",
      "source": [
        "# Fill null values in salary_min and salary_max column with median\n",
        "df_ME_IDR['salary_min'].fillna(df_ME_IDR['salary_min'].median(), inplace = True)\n",
        "df_ME_IDR['salary_max'].fillna(df_ME_IDR['salary_max'].median(), inplace = True)"
      ],
      "metadata": {
        "colab": {
          "base_uri": "https://localhost:8080/"
        },
        "id": "ZnwpnuWEboiJ",
        "outputId": "5938bfe0-7b79-4bc4-ebf8-1ca771d6c52a"
      },
      "execution_count": 15,
      "outputs": [
        {
          "output_type": "stream",
          "name": "stderr",
          "text": [
            "<ipython-input-15-07c6f949b8f3>:2: SettingWithCopyWarning: \n",
            "A value is trying to be set on a copy of a slice from a DataFrame\n",
            "\n",
            "See the caveats in the documentation: https://pandas.pydata.org/pandas-docs/stable/user_guide/indexing.html#returning-a-view-versus-a-copy\n",
            "  df_ME_IDR['salary_min'].fillna(df_ME_IDR['salary_min'].median(), inplace = True)\n",
            "<ipython-input-15-07c6f949b8f3>:3: SettingWithCopyWarning: \n",
            "A value is trying to be set on a copy of a slice from a DataFrame\n",
            "\n",
            "See the caveats in the documentation: https://pandas.pydata.org/pandas-docs/stable/user_guide/indexing.html#returning-a-view-versus-a-copy\n",
            "  df_ME_IDR['salary_max'].fillna(df_ME_IDR['salary_max'].median(), inplace = True)\n"
          ]
        }
      ]
    },
    {
      "cell_type": "code",
      "source": [
        "df_ME_IDR.info()"
      ],
      "metadata": {
        "colab": {
          "base_uri": "https://localhost:8080/"
        },
        "id": "GNi8oGeXnfqH",
        "outputId": "d4365644-051e-421d-d1e6-31994a44a4a7"
      },
      "execution_count": 16,
      "outputs": [
        {
          "output_type": "stream",
          "name": "stdout",
          "text": [
            "<class 'pandas.core.frame.DataFrame'>\n",
            "Int64Index: 669 entries, 903 to 58280\n",
            "Data columns (total 9 columns):\n",
            " #   Column               Non-Null Count  Dtype  \n",
            "---  ------               --------------  -----  \n",
            " 0   scrapedid            669 non-null    int64  \n",
            " 1   webid                669 non-null    int64  \n",
            " 2   companyid            669 non-null    float64\n",
            " 3   job_title            669 non-null    object \n",
            " 4   career_level         669 non-null    object \n",
            " 5   year_experience_min  669 non-null    float64\n",
            " 6   currency             669 non-null    object \n",
            " 7   salary_min           669 non-null    float64\n",
            " 8   salary_max           669 non-null    float64\n",
            "dtypes: float64(4), int64(2), object(3)\n",
            "memory usage: 52.3+ KB\n"
          ]
        }
      ]
    },
    {
      "cell_type": "code",
      "source": [
        "df_ME_SGD.info()"
      ],
      "metadata": {
        "colab": {
          "base_uri": "https://localhost:8080/"
        },
        "id": "IDebrMlIFhwL",
        "outputId": "4dcc30b1-a173-4eeb-ccbb-dcbc7387ca82"
      },
      "execution_count": 17,
      "outputs": [
        {
          "output_type": "stream",
          "name": "stdout",
          "text": [
            "<class 'pandas.core.frame.DataFrame'>\n",
            "Int64Index: 1406 entries, 68 to 58378\n",
            "Data columns (total 9 columns):\n",
            " #   Column               Non-Null Count  Dtype  \n",
            "---  ------               --------------  -----  \n",
            " 0   scrapedid            1406 non-null   int64  \n",
            " 1   webid                1406 non-null   int64  \n",
            " 2   companyid            1406 non-null   float64\n",
            " 3   job_title            1406 non-null   object \n",
            " 4   career_level         1406 non-null   object \n",
            " 5   year_experience_min  1406 non-null   float64\n",
            " 6   currency             1406 non-null   object \n",
            " 7   salary_min           847 non-null    float64\n",
            " 8   salary_max           847 non-null    float64\n",
            "dtypes: float64(4), int64(2), object(3)\n",
            "memory usage: 109.8+ KB\n"
          ]
        }
      ]
    },
    {
      "cell_type": "code",
      "source": [
        "# Fill null values in salary_min and salary_max column with median\n",
        "df_ME_SGD['salary_min'].fillna(df_ME_SGD['salary_min'].median(), inplace = True)\n",
        "df_ME_SGD['salary_max'].fillna(df_ME_SGD['salary_max'].median(), inplace = True)"
      ],
      "metadata": {
        "colab": {
          "base_uri": "https://localhost:8080/"
        },
        "id": "8doz0f2Hb9wF",
        "outputId": "a1853678-659d-4544-d152-3303d674092a"
      },
      "execution_count": 18,
      "outputs": [
        {
          "output_type": "stream",
          "name": "stderr",
          "text": [
            "<ipython-input-18-e4f4ec99e22b>:2: SettingWithCopyWarning: \n",
            "A value is trying to be set on a copy of a slice from a DataFrame\n",
            "\n",
            "See the caveats in the documentation: https://pandas.pydata.org/pandas-docs/stable/user_guide/indexing.html#returning-a-view-versus-a-copy\n",
            "  df_ME_SGD['salary_min'].fillna(df_ME_SGD['salary_min'].median(), inplace = True)\n",
            "<ipython-input-18-e4f4ec99e22b>:3: SettingWithCopyWarning: \n",
            "A value is trying to be set on a copy of a slice from a DataFrame\n",
            "\n",
            "See the caveats in the documentation: https://pandas.pydata.org/pandas-docs/stable/user_guide/indexing.html#returning-a-view-versus-a-copy\n",
            "  df_ME_SGD['salary_max'].fillna(df_ME_SGD['salary_max'].median(), inplace = True)\n"
          ]
        }
      ]
    },
    {
      "cell_type": "code",
      "source": [
        "df_ME_SGD.info()"
      ],
      "metadata": {
        "colab": {
          "base_uri": "https://localhost:8080/"
        },
        "id": "HCQ1eyU4nhha",
        "outputId": "f5cca23c-d3e2-4cc7-9d28-3ba80c49ce05"
      },
      "execution_count": 19,
      "outputs": [
        {
          "output_type": "stream",
          "name": "stdout",
          "text": [
            "<class 'pandas.core.frame.DataFrame'>\n",
            "Int64Index: 1406 entries, 68 to 58378\n",
            "Data columns (total 9 columns):\n",
            " #   Column               Non-Null Count  Dtype  \n",
            "---  ------               --------------  -----  \n",
            " 0   scrapedid            1406 non-null   int64  \n",
            " 1   webid                1406 non-null   int64  \n",
            " 2   companyid            1406 non-null   float64\n",
            " 3   job_title            1406 non-null   object \n",
            " 4   career_level         1406 non-null   object \n",
            " 5   year_experience_min  1406 non-null   float64\n",
            " 6   currency             1406 non-null   object \n",
            " 7   salary_min           1406 non-null   float64\n",
            " 8   salary_max           1406 non-null   float64\n",
            "dtypes: float64(4), int64(2), object(3)\n",
            "memory usage: 109.8+ KB\n"
          ]
        }
      ]
    },
    {
      "cell_type": "code",
      "source": [
        "df_ME_MYR.info()"
      ],
      "metadata": {
        "colab": {
          "base_uri": "https://localhost:8080/"
        },
        "id": "9lxOkrXBFjfi",
        "outputId": "3d6553aa-8779-4fb5-cce5-547d186b217e"
      },
      "execution_count": 20,
      "outputs": [
        {
          "output_type": "stream",
          "name": "stdout",
          "text": [
            "<class 'pandas.core.frame.DataFrame'>\n",
            "Int64Index: 2063 entries, 11 to 58319\n",
            "Data columns (total 9 columns):\n",
            " #   Column               Non-Null Count  Dtype  \n",
            "---  ------               --------------  -----  \n",
            " 0   scrapedid            2063 non-null   int64  \n",
            " 1   webid                2063 non-null   int64  \n",
            " 2   companyid            2063 non-null   float64\n",
            " 3   job_title            2063 non-null   object \n",
            " 4   career_level         2063 non-null   object \n",
            " 5   year_experience_min  2063 non-null   float64\n",
            " 6   currency             2063 non-null   object \n",
            " 7   salary_min           1457 non-null   float64\n",
            " 8   salary_max           1458 non-null   float64\n",
            "dtypes: float64(4), int64(2), object(3)\n",
            "memory usage: 161.2+ KB\n"
          ]
        }
      ]
    },
    {
      "cell_type": "code",
      "source": [
        "# Fill null values in salary_min and salary_max column with median\n",
        "df_ME_MYR['salary_min'].fillna(df_ME_MYR['salary_min'].median(), inplace = True)\n",
        "df_ME_MYR['salary_max'].fillna(df_ME_MYR['salary_max'].median(), inplace = True)"
      ],
      "metadata": {
        "colab": {
          "base_uri": "https://localhost:8080/"
        },
        "id": "PWFkgdWBcFhq",
        "outputId": "1bb95186-806a-4c7a-9b4b-f5a5220ac0f8"
      },
      "execution_count": 21,
      "outputs": [
        {
          "output_type": "stream",
          "name": "stderr",
          "text": [
            "<ipython-input-21-d1e0e17b87c2>:2: SettingWithCopyWarning: \n",
            "A value is trying to be set on a copy of a slice from a DataFrame\n",
            "\n",
            "See the caveats in the documentation: https://pandas.pydata.org/pandas-docs/stable/user_guide/indexing.html#returning-a-view-versus-a-copy\n",
            "  df_ME_MYR['salary_min'].fillna(df_ME_MYR['salary_min'].median(), inplace = True)\n",
            "<ipython-input-21-d1e0e17b87c2>:3: SettingWithCopyWarning: \n",
            "A value is trying to be set on a copy of a slice from a DataFrame\n",
            "\n",
            "See the caveats in the documentation: https://pandas.pydata.org/pandas-docs/stable/user_guide/indexing.html#returning-a-view-versus-a-copy\n",
            "  df_ME_MYR['salary_max'].fillna(df_ME_MYR['salary_max'].median(), inplace = True)\n"
          ]
        }
      ]
    },
    {
      "cell_type": "code",
      "source": [
        "df_ME_MYR.info()"
      ],
      "metadata": {
        "colab": {
          "base_uri": "https://localhost:8080/"
        },
        "id": "F5z6l_T_njbn",
        "outputId": "d3762b70-2006-40b7-9f1c-9cd46a69eb4c"
      },
      "execution_count": 22,
      "outputs": [
        {
          "output_type": "stream",
          "name": "stdout",
          "text": [
            "<class 'pandas.core.frame.DataFrame'>\n",
            "Int64Index: 2063 entries, 11 to 58319\n",
            "Data columns (total 9 columns):\n",
            " #   Column               Non-Null Count  Dtype  \n",
            "---  ------               --------------  -----  \n",
            " 0   scrapedid            2063 non-null   int64  \n",
            " 1   webid                2063 non-null   int64  \n",
            " 2   companyid            2063 non-null   float64\n",
            " 3   job_title            2063 non-null   object \n",
            " 4   career_level         2063 non-null   object \n",
            " 5   year_experience_min  2063 non-null   float64\n",
            " 6   currency             2063 non-null   object \n",
            " 7   salary_min           2063 non-null   float64\n",
            " 8   salary_max           2063 non-null   float64\n",
            "dtypes: float64(4), int64(2), object(3)\n",
            "memory usage: 161.2+ KB\n"
          ]
        }
      ]
    },
    {
      "cell_type": "code",
      "source": [
        "# Extract dataframe into CSV\n",
        "df_ME_MYR.to_csv('/content/DA-Assignment-2024/Marketing Executive_MYR.csv', index=True)\n",
        "df_ME_IDR.to_csv('/content/DA-Assignment-2024/Marketing Executive_IDR.csv', index=True)\n",
        "df_ME_SGD.to_csv('/content/DA-Assignment-2024/Marketing Executive_SGD.csv', index=True)"
      ],
      "metadata": {
        "id": "8BpKPx78e-SP"
      },
      "execution_count": 23,
      "outputs": []
    }
  ]
}